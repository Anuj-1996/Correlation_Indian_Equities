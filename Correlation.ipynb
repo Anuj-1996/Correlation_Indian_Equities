{
  "cells": [
    {
      "cell_type": "markdown",
      "metadata": {
        "id": "view-in-github",
        "colab_type": "text"
      },
      "source": [
        "<a href=\"https://colab.research.google.com/github/Anuj-1996/Correlation_Indian_Equities/blob/main/Correlation.ipynb\" target=\"_parent\"><img src=\"https://colab.research.google.com/assets/colab-badge.svg\" alt=\"Open In Colab\"/></a>"
      ]
    },
    {
      "cell_type": "code",
      "execution_count": 1,
      "metadata": {
        "colab": {
          "base_uri": "https://localhost:8080/"
        },
        "id": "vx0ij8TlFx-6",
        "outputId": "5366577e-f322-49c9-aa4a-fcdf3361a298"
      },
      "outputs": [
        {
          "output_type": "stream",
          "name": "stdout",
          "text": [
            "Looking in indexes: https://pypi.org/simple, https://us-python.pkg.dev/colab-wheels/public/simple/\n",
            "Collecting yfinance\n",
            "  Downloading yfinance-0.1.74-py2.py3-none-any.whl (27 kB)\n",
            "Requirement already satisfied: pandas>=0.24.0 in /usr/local/lib/python3.7/dist-packages (from yfinance) (1.3.5)\n",
            "Requirement already satisfied: lxml>=4.5.1 in /usr/local/lib/python3.7/dist-packages (from yfinance) (4.9.1)\n",
            "Collecting requests>=2.26\n",
            "  Downloading requests-2.28.1-py3-none-any.whl (62 kB)\n",
            "\u001b[K     |████████████████████████████████| 62 kB 1.2 MB/s \n",
            "\u001b[?25hRequirement already satisfied: numpy>=1.15 in /usr/local/lib/python3.7/dist-packages (from yfinance) (1.21.6)\n",
            "Requirement already satisfied: multitasking>=0.0.7 in /usr/local/lib/python3.7/dist-packages (from yfinance) (0.0.11)\n",
            "Requirement already satisfied: python-dateutil>=2.7.3 in /usr/local/lib/python3.7/dist-packages (from pandas>=0.24.0->yfinance) (2.8.2)\n",
            "Requirement already satisfied: pytz>=2017.3 in /usr/local/lib/python3.7/dist-packages (from pandas>=0.24.0->yfinance) (2022.2.1)\n",
            "Requirement already satisfied: six>=1.5 in /usr/local/lib/python3.7/dist-packages (from python-dateutil>=2.7.3->pandas>=0.24.0->yfinance) (1.15.0)\n",
            "Requirement already satisfied: idna<4,>=2.5 in /usr/local/lib/python3.7/dist-packages (from requests>=2.26->yfinance) (2.10)\n",
            "Requirement already satisfied: urllib3<1.27,>=1.21.1 in /usr/local/lib/python3.7/dist-packages (from requests>=2.26->yfinance) (1.24.3)\n",
            "Requirement already satisfied: charset-normalizer<3,>=2 in /usr/local/lib/python3.7/dist-packages (from requests>=2.26->yfinance) (2.1.0)\n",
            "Requirement already satisfied: certifi>=2017.4.17 in /usr/local/lib/python3.7/dist-packages (from requests>=2.26->yfinance) (2022.6.15)\n",
            "Installing collected packages: requests, yfinance\n",
            "  Attempting uninstall: requests\n",
            "    Found existing installation: requests 2.23.0\n",
            "    Uninstalling requests-2.23.0:\n",
            "      Successfully uninstalled requests-2.23.0\n",
            "Successfully installed requests-2.28.1 yfinance-0.1.74\n"
          ]
        }
      ],
      "source": [
        "pip install yfinance"
      ]
    },
    {
      "cell_type": "code",
      "source": [
        "#NSE-500 listed companies ticker\n",
        "#use this ticker symbols for analysis\n",
        "'3MINDIA.NS','ABB.NS','POWERINDIA.NS','ACC.NS','AIAENG.NS','APLAPOLLO.NS','AUBANK.NS','AARTIDRUGS.NS','AARTIIND.NS','AAVAS.NS','ABBOTINDIA.NS','ADANIENT.NS',\n",
        "'ADANIGREEN.NS','ADANIPORTS.NS','ATGL.NS','ADANITRANS.NS','ABCAPITAL.NS','ABFRL.NS','ADVENZYMES.NS','AEGISCHEM.NS','AFFLE.NS','AJANTPHARM.NS','AKZOINDIA.NS',\n",
        "'ALEMBICLTD.NS','APLLTD.NS','ALKEM.NS','ALKYLAMINE.NS','ALOKINDS.NS','AMARAJABAT.NS','AMBER.NS','AMBUJACEM.NS','ANGELBRKG.NS','APOLLOHOSP.NS','APOLLOTYRE.NS',\n",
        "'ASAHIINDIA.NS','ASHOKLEY.NS','ASHOKA.NS','ASIANPAINT.NS','ASTERDM.NS','ASTRAZEN.NS','ASTRAL.NS','ATUL.NS','AUROPHARMA.NS','AVANTIFEED.NS','DMART.NS','AXISBANK.NS',\n",
        "'BASF.NS','BEML.NS','BSE.NS','BAJAJ-AUTO.NS','BAJAJCON.NS','BAJAJELEC.NS','BAJFINANCE.NS','BAJAJFINSV.NS','BAJAJHLDNG.NS','BALAMINES.NS','BALKRISIND.NS','BALMLAWRIE.NS',\n",
        "'BALRAMCHIN.NS','BANDHANBNK.NS','BANKBARODA.NS','BANKINDIA.NS','MAHABANK.NS','BATAINDIA.NS','BAYERCROP.NS','BERGEPAINT.NS','BDL.NS','BEL.NS','BHARATFORG.NS','BHEL.NS',\n",
        "'BPCL.NS','BHARATRAS.NS','BHARTIARTL.NS','BIOCON.NS','BIRLACORPN.NS','BSOFT.NS','BLISSGVS.NS','BLUEDART.NS','BLUESTARCO.NS','BBTC.NS','BOSCHLTD.NS','BRIGADE.NS',\n",
        "'BRITANNIA.NS','BURGERKING.NS','CCL.NS','CESC.NS','CRISIL.NS','CSBBANK.NS','CADILAHC.NS','CANFINHOME.NS','CANBK.NS','CAPLIPOINT.NS','CGCL.NS','CARBORUNIV.NS',\n",
        "'CASTROLIND.NS','CEATLTD.NS','CENTRALBK.NS','CDSL.NS','CENTURYPLY.NS','CENTURYTEX.NS','CERA.NS','CHALET.NS','CHAMBLFERT.NS','CHOLAHLDNG.NS','CHOLAFIN.NS','CIPLA.NS',\n",
        "'CUB.NS','COALINDIA.NS','COCHINSHIP.NS','COFORGE.NS','COLPAL.NS','CAMS.NS','CONCOR.NS','COROMANDEL.NS','CREDITACC.NS','CROMPTON.NS','CUMMINSIND.NS','CYIENT.NS','DCBBANK.NS','DCMSHRIRAM.NS','DLF.NS','DABUR.NS','DALBHARAT.NS','DEEPAKNTR.NS','DELTACORP.NS','DHANI.NS','DHANUKA.NS','DBL.NS','DISHTV.NS','DCAL.NS','DIVISLAB.NS','DIXON.NS','LALPATHLAB.NS','DRREDDY.NS','EIDPARRY.NS','EIHOTEL.NS','EPL.NS','EDELWEISS.NS','EICHERMOT.NS','ELGIEQUIP.NS','EMAMILTD.NS','ENDURANCE.NS','ENGINERSIN.NS','EQUITAS.NS','ERIS.NS','ESCORTS.NS','EXIDEIND.NS','FDC.NS','FEDERALBNK.NS','FINEORG.NS','FINCABLES.NS','FINPIPE.NS','FSL.NS','FORTIS.NS','FCONSUMER.NS','FRETAIL.NS','GAIL.NS','GEPIL.NS','GMMPFAUDLR.NS','GMRINFRA.NS','GALAXYSURF.NS','GRSE.NS','GARFIBRES.NS','GICRE.NS','GILLETTE.NS','GLAXO.NS','GLENMARK.NS','GODFRYPHLP.NS','GODREJAGRO.NS','GODREJCP.NS','GODREJIND.NS','GODREJPROP.NS','GRANULES.NS','GRAPHITE.NS','GRASIM.NS','GESHIP.NS','GREAVESCOT.NS','GRINDWELL.NS','GUJALKALI.NS','GAEL.NS','FLUOROCHEM.NS','GUJGASLTD.NS','GNFC.NS','GPPL.NS','GSFC.NS','GSPL.NS','GULFOILLUB.NS','HEG.NS','HCLTECH.NS','HDFCAMC.NS','HDFCBANK.NS','HDFCLIFE.NS','HFCL.NS','HAPPSTMNDS.NS','HATSUN.NS','HAVELLS.NS','HEIDELBERG.NS','HEMIPROP.NS','HEROMOTOCO.NS','HSCL.NS','HINDALCO.NS','HAL.NS','HINDCOPPER.NS','HINDPETRO.NS','HINDUNILVR.NS','HINDZINC.NS','HONAUT.NS','HUDCO.NS','HDFC.NS','HUHTAMAKI.NS','ICICIBANK.NS','ICICIGI.NS','ICICIPRULI.NS','ISEC.NS','IDBI.NS','IDFCFIRSTB.NS','IDFC.NS','IFBIND.NS','IIFL.NS','IIFLWAM.NS','IOLCP.NS','IRB.NS','IRCON.NS','ITC.NS','ITI.NS','INDIACEM.NS','IBULHSGFIN.NS','IBREALEST.NS','INDIAMART.NS','INDIANB.NS','IEX.NS','INDHOTEL.NS','IOC.NS','IOB.NS','IRCTC.NS','ICIL.NS','INDOCO.NS','IGL.NS','INDUSTOWER.NS','INDUSINDBK.NS','INFIBEAM.NS','NAUKRI.NS','INFY.NS','INGERRAND.NS','INOXLEISUR.NS','INTELLECT.NS','INDIGO.NS','IPCALAB.NS','JBCHEPHARM.NS','JKCEMENT.NS','JKLAKSHMI.NS','JKPAPER.NS','JKTYRE.NS','JMFINANCIL.NS','JSWENERGY.NS','JSWSTEEL.NS','JTEKTINDIA.NS','JAMNAAUTO.NS','JINDALSAW.NS','JSLHISAR.NS','JSL.NS','JINDALSTEL.NS','JCHAC.NS','JUBLFOOD.NS','JUSTDIAL.NS','JYOTHYLAB.NS','KPRMILL.NS','KEI.NS','KNRCON.NS','KPITTECH.NS','KRBL.NS','KSB.NS','KAJARIACER.NS','KALPATPOWR.NS','KANSAINER.NS','KARURVYSYA.NS','KSCL.NS','KEC.NS','KOTAKBANK.NS','L&TFH.NS','LTTS.NS','LICHSGFIN.NS','LAOPALA.NS','LAXMIMACH.NS','LTI.NS','LT.NS','LAURUSLABS.NS','LEMONTREE.NS','LINDEINDIA.NS','LUPIN.NS','LUXIND.NS','MASFIN.NS','MMTC.NS','MOIL.NS','MRF.NS','MGL.NS','MAHSCOOTER.NS','MAHSEAMLES.NS','M&MFIN.NS','M&M.NS','MAHINDCIE.NS','MHRIL.NS','MAHLOG.NS','MANAPPURAM.NS','MRPL.NS','MARICO.NS','MARUTI.NS','MFSL.NS','MAXHEALTH.NS','MAZDOCK.NS','METROPOLIS.NS','MINDTREE.NS','MINDACORP.NS','MINDAIND.NS','MIDHANI.NS','MOTHERSUMI.NS','MOTILALOFS.NS','MPHASIS.NS','MCX.NS','MUTHOOTFIN.NS','NATCOPHARM.NS','NBCC.NS','NCC.NS','NESCO.NS','NHPC.NS','NLCINDIA.NS','NMDC.NS','NOCIL.NS','NTPC.NS','NH.NS','NATIONALUM.NS','NFL.NS','NAVINFLUOR.NS','NESTLEIND.NS','NETWORK18.NS','NILKAMAL.NS','NAM-INDIA.NS','OBEROIRLTY.NS','ONGC.NS','OIL.NS','OFSS.NS','ORIENTELEC.NS','ORIENTREF.NS','PIIND.NS','PNBHOUSING.NS','PNCINFRA.NS','PVR.NS','PAGEIND.NS','PERSISTENT.NS','PETRONET.NS','PFIZER.NS','PHILIPCARB.NS','PHOENIXLTD.NS','PIDILITIND.NS','PEL.NS','POLYMED.NS','POLYCAB.NS','POLYPLEX.NS','PFC.NS','POWERGRID.NS','PRESTIGE.NS','PRINCEPIPE.NS','PRSMJOHNSN.NS','PGHL.NS','PGHH.NS','PNB.NS','QUESS.NS','RBLBANK.NS','RECLTD.NS','RITES.NS','RADICO.NS','RVNL.NS','RAIN.NS','RAJESHEXPO.NS','RALLIS.NS','RCF.NS','RATNAMANI.NS','RAYMOND.NS','REDINGTON.NS','RELAXO.NS','RELIANCE.NS','RESPONIND.NS','ROSSARI.NS','ROUTE.NS','SBICARD.NS','SBILIFE.NS','SIS.NS','SJVN.NS','SKFINDIA.NS','SRF.NS','SANOFI.NS','SCHAEFFLER.NS','SCHNEIDER.NS','SEQUENT.NS','SHARDACROP.NS','SFL.NS','SHILPAMED.NS','SCI.NS','SHOPERSTOP.NS','SHREECEM.NS','SHRIRAMCIT.NS','SRTRANSFIN.NS','SIEMENS.NS','SOBHA.NS','SOLARINDS.NS','SOLARA.NS','SONATSOFTW.NS','SPANDANA.NS','SPICEJET.NS','STARCEMENT.NS','SBIN.NS','SAIL.NS','SWSOLAR.NS','STLTECH.NS','STAR.NS','SUDARSCHEM.NS','SUMICHEM.NS','SPARC.NS','SUNPHARMA.NS','SUNTV.NS','SUNCLAYLTD.NS','SUNDARMFIN.NS','SUNDRMFAST.NS','SUNTECK.NS','SUPRAJIT.NS','SUPREMEIND.NS','SUPPETRO.NS','SUVENPHAR.NS','SUZLON.NS','SWANENERGY.NS','SYMPHONY.NS','SYNGENE.NS','TCIEXP.NS','TCNSBRANDS.NS','TTKPRESTIG.NS','TV18BRDCST.NS','TVSMOTOR.NS','TANLA.NS','TASTYBITE.NS','TATACHEM.NS','TATACOFFEE.NS','TATACOMM.NS','TCS.NS','TATACONSUM.NS','TATAELXSI.NS','TATAINVEST.NS','TATAMTRDVR.NS','TATAMOTORS.NS','TATAPOWER.NS','TATASTEEL.NS','TEAMLEASE.NS','TECHM.NS','NIACL.NS','RAMCOCEM.NS','THERMAX.NS','THYROCARE.NS','TIMKEN.NS','TITAN.NS','TORNTPHARM.NS','TORNTPOWER.NS','TRENT.NS','TRIDENT.NS','TRITURBINE.NS','TIINDIA.NS','UCOBANK.NS','UFLEX.NS','UPL.NS','UTIAMC.NS','UJJIVAN.NS','UJJIVANSFB.NS','ULTRACEMCO.NS','UNIONBANK.NS','UBL.NS','MCDOWELL-N.NS','VGUARD.NS','VMART.NS','VIPIND.NS','VSTIND.NS','VAIBHAVGBL.NS','VAKRANGEE.NS','VALIANTORG.NS','VTL.NS','VARROC.NS','VBL.NS','VEDL.NS','VENKEYS.NS','VINATIORGA.NS','IDEA.NS','VOLTAS.NS','WABCOINDIA.NS','WELCORP.NS','WELSPUNIND.NS','WESTLIFE.NS','WHIRLPOOL.NS','WIPRO.NS','WOCKPHARMA.NS','YESBANK.NS','ZEEL.NS','ZENSARTECH.NS','ZYDUSWELL.NS','ECLERX.NS'"
      ],
      "metadata": {
        "id": "PDfu5HMS8gRB"
      },
      "execution_count": null,
      "outputs": []
    },
    {
      "cell_type": "code",
      "execution_count": null,
      "metadata": {
        "colab": {
          "base_uri": "https://localhost:8080/"
        },
        "id": "ngArXFu1GFdk",
        "outputId": "c3dd080f-6b5a-4188-9e8f-6507e532b7c0"
      },
      "outputs": [
        {
          "output_type": "stream",
          "name": "stdout",
          "text": [
            "Enter date start date in: yy-mm-dd\n",
            "[*********************100%***********************]  1 of 1 completed\n",
            "[*********************100%***********************]  1 of 1 completed\n",
            "[*********************100%***********************]  1 of 1 completed\n",
            "[*********************100%***********************]  1 of 1 completed\n",
            "[*********************100%***********************]  1 of 1 completed\n",
            "[*********************100%***********************]  1 of 1 completed\n",
            "[*********************100%***********************]  1 of 1 completed\n",
            "[*********************100%***********************]  1 of 1 completed\n",
            "[*********************100%***********************]  1 of 1 completed\n",
            "[*********************100%***********************]  1 of 1 completed\n",
            "[*********************100%***********************]  1 of 1 completed\n",
            "[*********************100%***********************]  1 of 1 completed\n",
            "[*********************100%***********************]  1 of 1 completed\n",
            "[*********************100%***********************]  1 of 1 completed\n",
            "[*********************100%***********************]  1 of 1 completed\n",
            "[*********************100%***********************]  1 of 1 completed\n",
            "[*********************100%***********************]  1 of 1 completed\n",
            "[*********************100%***********************]  1 of 1 completed\n",
            "[*********************100%***********************]  1 of 1 completed\n",
            "[*********************100%***********************]  1 of 1 completed\n",
            "[*********************100%***********************]  1 of 1 completed\n",
            "[*********************100%***********************]  1 of 1 completed\n",
            "[*********************100%***********************]  1 of 1 completed\n",
            "[*********************100%***********************]  1 of 1 completed\n",
            "[*********************100%***********************]  1 of 1 completed\n",
            "[*********************100%***********************]  1 of 1 completed\n",
            "[*********************100%***********************]  1 of 1 completed\n",
            "[*********************100%***********************]  1 of 1 completed\n",
            "[*********************100%***********************]  1 of 1 completed\n",
            "[*********************100%***********************]  1 of 1 completed\n",
            "[*********************100%***********************]  1 of 1 completed\n",
            "[*********************100%***********************]  1 of 1 completed\n",
            "\n",
            "1 Failed download:\n",
            "- ANGELBRKG.NS: No data found, symbol may be delisted\n",
            "[*********************100%***********************]  1 of 1 completed\n",
            "[*********************100%***********************]  1 of 1 completed\n",
            "[*********************100%***********************]  1 of 1 completed\n",
            "[*********************100%***********************]  1 of 1 completed\n",
            "[*********************100%***********************]  1 of 1 completed\n",
            "[*********************100%***********************]  1 of 1 completed\n",
            "[*********************100%***********************]  1 of 1 completed\n",
            "[*********************100%***********************]  1 of 1 completed\n",
            "[*********************100%***********************]  1 of 1 completed\n",
            "[*********************100%***********************]  1 of 1 completed\n",
            "[*********************100%***********************]  1 of 1 completed\n",
            "[*********************100%***********************]  1 of 1 completed\n",
            "[*********************100%***********************]  1 of 1 completed\n",
            "[*********************100%***********************]  1 of 1 completed\n",
            "[*********************100%***********************]  1 of 1 completed\n",
            "[*********************100%***********************]  1 of 1 completed\n",
            "[*********************100%***********************]  1 of 1 completed"
          ]
        }
      ],
      "source": [
        "import numpy as np\n",
        "import pandas as pd\n",
        " #used to grab the stock prices, with yahoo\n",
        "import pandas_datareader as web\n",
        "from datetime import datetime\n",
        " #to visualize the results\n",
        "import matplotlib.pyplot as plt\n",
        "import seaborn\n",
        "from pandas_datareader import data as pdr\n",
        "import yfinance as yf\n",
        "yf.pdr_override()\n",
        "#select start date for correlation window as well as list of tickers\n",
        "\n",
        "print('Enter date start date in: yy-mm-dd')\n",
        "start= '2019-01-01'\n",
        "today= datetime.today().strftime('%Y-%m-%d')\n",
        "symbols_list = ['3MINDIA.NS','ABB.NS','POWERINDIA.NS','ACC.NS','AIAENG.NS','APLAPOLLO.NS','AUBANK.NS','AARTIDRUGS.NS','AARTIIND.NS','AAVAS.NS','ABBOTINDIA.NS','ADANIENT.NS',\n",
        "'ADANIGREEN.NS','ADANIPORTS.NS','ATGL.NS','ADANITRANS.NS','ABCAPITAL.NS','ABFRL.NS','ADVENZYMES.NS','AEGISCHEM.NS','AFFLE.NS','AJANTPHARM.NS','AKZOINDIA.NS',\n",
        "'ALEMBICLTD.NS','APLLTD.NS','ALKEM.NS','ALKYLAMINE.NS','ALOKINDS.NS','AMARAJABAT.NS','AMBER.NS','AMBUJACEM.NS','ANGELBRKG.NS','APOLLOHOSP.NS','APOLLOTYRE.NS',\n",
        "'ASAHIINDIA.NS','ASHOKLEY.NS','ASHOKA.NS','ASIANPAINT.NS','ASTERDM.NS','ASTRAZEN.NS','ASTRAL.NS','ATUL.NS','AUROPHARMA.NS','AVANTIFEED.NS','DMART.NS','AXISBANK.NS',\n",
        "'BASF.NS','BEML.NS','BSE.NS','BAJAJ-AUTO.NS','BAJAJCON.NS','BAJAJELEC.NS','BAJFINANCE.NS','BAJAJFINSV.NS','BAJAJHLDNG.NS','BALAMINES.NS','BALKRISIND.NS','BALMLAWRIE.NS']\n",
        "#array to store prices\n",
        "symbols=[]\n",
        "\n",
        "#pull price using iex for each symbol in list defined above\n",
        "for ticker in symbols_list: \n",
        "    r = pdr.get_data_yahoo(ticker, data_source='yahoo', start= start, end= today)\n",
        "    # add a symbol column\n",
        "    r['Symbol'] = ticker \n",
        "    symbols.append(r)\n",
        "\n",
        "# concatenate into df\n",
        "df = pd.concat(symbols)\n",
        "df = df.reset_index()\n",
        "df = df[['Date', 'Close', 'Symbol']]\n",
        "df_pivot = df.pivot('Date','Symbol','Close').reset_index()\n",
        "\n",
        "\n",
        "df_pivot.head()\n",
        "dp = pd.DataFrame(df_pivot)\n",
        "corrM=dp.corr()\n",
        "\n",
        "import matplotlib.pyplot as plt\n",
        "fig = plt.gcf()\n",
        "\n",
        "# Change seaborn plot size\n",
        "fig.set_size_inches(20, 20)\n",
        "\n",
        "#take the bottom triangle since it repeats itself\n",
        "mask = np.zeros_like(corrM)\n",
        "mask[np.triu_indices_from(mask)] = 0\n",
        " #generate plot\n",
        "seaborn.heatmap(corrM, cmap='RdYlGn', vmax=1.0, vmin=-1.0 , mask = mask,center=0, square=True, linewidths=1.5, cbar_kws={\"shrink\": .5}, annot=True)\n",
        "plt.yticks(rotation=0) \n",
        "plt.xticks(rotation=90)\n",
        "plt.show()\n",
        "\n"
      ]
    },
    {
      "cell_type": "markdown",
      "metadata": {
        "id": "QkJMkJjhZoUI"
      },
      "source": [
        "# Stocks which are least correlated or <0.2 "
      ]
    },
    {
      "cell_type": "code",
      "execution_count": 73,
      "metadata": {
        "id": "ZFh8EmvBSRUb",
        "colab": {
          "base_uri": "https://localhost:8080/"
        },
        "outputId": "21bf62de-3fbf-4d78-8156-c11b812971a0"
      },
      "outputs": [
        {
          "output_type": "stream",
          "name": "stdout",
          "text": [
            "Symbol         Symbol      \n",
            "NCC.NS         RELIANCE.NS     0.018915\n",
            "GAIL.NS        RELIANCE.NS     0.103231\n",
            "HINDOILEXP.NS  ICICIGOLD.NS    0.127811\n",
            "CEATLTD.NS     ICICIGOLD.NS    0.148684\n",
            "NCC.NS         POLYPLEX.NS     0.189680\n",
            "ICICIGOLD.NS   SJVN.NS         0.190348\n",
            "HDFC.BO        ICICIGOLD.NS    0.199658\n",
            "dtype: float64\n"
          ]
        }
      ],
      "source": [
        "\n",
        "matrix = df_pivot.corr()\n",
        "\n",
        "#pairs in between 0.2 to 0 i.e. least correlated\n",
        "pairs = matrix[(matrix <= 0.2) & (matrix > 0) ]\n",
        "\n",
        "#using drop_duplicate() to remove duplicates\n",
        "#drop na if any null value\n",
        "corr_pairs = pairs.unstack().dropna().drop_duplicates()\n",
        "\n",
        "#using quicksort\n",
        "\n",
        "sorted_pairs = corr_pairs.sort_values(kind=\"quicksort\")\n",
        "\n",
        "#to print all the list\n",
        "with pd.option_context('display.max_rows', None, 'display.max_columns', None): \n",
        "    print(sorted_pairs)\n"
      ]
    }
  ],
  "metadata": {
    "colab": {
      "collapsed_sections": [],
      "name": "Correlation",
      "provenance": [],
      "authorship_tag": "ABX9TyO2w5K8IM0ZGXwy1dUOTVs8",
      "include_colab_link": true
    },
    "kernelspec": {
      "display_name": "Python 3",
      "name": "python3"
    }
  },
  "nbformat": 4,
  "nbformat_minor": 0
}